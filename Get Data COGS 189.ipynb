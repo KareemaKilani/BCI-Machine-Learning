{
 "cells": [
  {
   "cell_type": "markdown",
   "id": "c4bd476b",
   "metadata": {},
   "source": [
    "### Importing Packages "
   ]
  },
  {
   "cell_type": "code",
   "execution_count": 1,
   "id": "09eb71f2",
   "metadata": {},
   "outputs": [],
   "source": [
    "import numpy as np\n",
    "import pandas as pd\n",
    "import scipy.io as sio\n",
    "import matplotlib.pyplot as plt\n",
    "import mne\n",
    "\n",
    "%matplotlib inline"
   ]
  },
  {
   "cell_type": "markdown",
   "id": "369bd7b4",
   "metadata": {},
   "source": [
    "### Goal:\n",
    "\n",
    "For each data set specific goals are given in the respective description. Technically speaking, each data set consists of **single-trials of spontaneous EEG activity, one part labeled (training data) and another part unlabeled (test data), and a performance measure.**\n",
    "\n",
    "The goal is to infer labels for the test set from training data that maximize the performance measure for the true (but to the participant unknown) test labels. "
   ]
  },
  {
   "attachments": {
    "download.jpg": {
     "image/jpeg": "[encoded data removed]"
    }
   },
   "cell_type": "markdown",
   "id": "2b9add7e",
   "metadata": {},
   "source": [
    "\n",
    "# Data set ‹self-paced 1s›\n",
    "\n",
    "Data set provided by Fraunhofer-FIRST, Intelligent Data Analysis Group (Klaus-Robert Müller), and Freie Universität Berlin, Department of Neurology, Neurophysics Group (Gabriel Curio)\n",
    "Correspondence to Benjamin Blankertz <benjamin.blankertz@tu-berlin.de>\n",
    "\n",
    "This dataset was recorded from a normal subject during a no-feedback session. The subject sat in a normal chair, relaxed arms resting on the table, fingers in the standard typing position at the computer keyboard. The task was to press with the index and little fingers the corresponding keys in a self-chosen order and timing 'self-paced key typing'. The experiment consisted of 3 sessions of 6 minutes each. All sessions were conducted on the same day with some minutes break inbetween. Typing was done at an average speed of 1 key per second.\n",
    "\n",
    "![download.jpg](attachment:download.jpg)\n",
    "\n",
    "**Format of the data**\n",
    "\n",
    "- Given are 416 epochs of 500 ms length each ending 130 ms before a keypress. \n",
    "- 316 epochs are labeled (0 for upcoming left hand movements and 1 for upcoming right hand movements), the remaining 100 epoches are unlabeled for competition purpose.\n",
    "- Data are provided in the original 1000 Hz sampling and in a version downsampled at 100 Hz (recommended). \n",
    "\n",
    "**Files are provided in Matlab format (*.mat) containing variables:**\n",
    "- clab: electrode labels\n",
    "- x_train: training trials (time x channels x trials)\n",
    "- y_train: corresponding labels (0: left, 1: right), \n",
    "- x_test: test trials (time x channels x trials)\n",
    "\n",
    "**Zipped ASC II format (*.txt.zip).**\n",
    "- Each of those files contains a 2-D matrix where each row (line) contains the data of one trial, beginning with all samples of the first channel. Channels are in the following order: (F3, F1, Fz, F2, F4, FC5, FC3, FC1, FCz, FC2, FC4, FC6, C5, C3, C1, Cz, C2, C4, C6, CP5, CP3, CP1, CPz, CP2, CP4, CP6, O1, O2).\n",
    "- In the files containing training data the first entry in each row indicates the class (0: left, 1: right). \n",
    "- In the 1000 Hz version trials consist of 500 samples per channel and in the 100 Hz version they consist of 50 samples.\n",
    "\n",
    "**Requirements and Evaluation** \n",
    "\n",
    "Please provide your estimated class labels (0 or 1) for every trial of the test data and give a description of the used algorithm. The performance measure is the classification accuracy (correct classified trials divided by the total number of test trials).\n",
    "\n",
    "**Technical data**\n",
    "\n",
    "The recording was made using a NeuroScan amplifier and a Ag/AgCl electrode cap from ECI. 28 EEG channels were measured at positions of the international 10/20-system (F, FC, C, and CP rows and O1, O2). Signals were recorded at 1000 Hz with a band-pass filter between 0.05 and 200 Hz.\n",
    "\n",
    "**References**\n",
    "Benjamin Blankertz, Gabriel Curio and Klaus-Robert Müller, Classifying Single Trial EEG: Towards Brain Computer Interfacing, In: T. G. Diettrich and S. Becker and Z. Ghahramani (eds.), Advances in Neural Inf. Proc. Systems 14 (NIPS 01), 2002."
   ]
  },
  {
   "cell_type": "markdown",
   "id": "ddedc22b",
   "metadata": {},
   "source": [
    "### Loading in Data"
   ]
  },
  {
   "cell_type": "code",
   "execution_count": 2,
   "id": "81376878",
   "metadata": {},
   "outputs": [],
   "source": [
    "# Make sure this juypter notebook is in the same folder as the data, if it isn't create a file path for it\n",
    "\n",
    "raw1 = sio.loadmat('sp1s_aa.mat')\n",
    "raw2 = sio.loadmat('sp1s_aa_1000Hz.mat')"
   ]
  },
  {
   "cell_type": "markdown",
   "id": "ea03f6af",
   "metadata": {},
   "source": [
    "**The data is in a dictionary therefore we will need to sort into arrays**, there's probably a faster more efficient way but this is solid for now"
   ]
  },
  {
   "cell_type": "code",
   "execution_count": 25,
   "id": "1d26de5c",
   "metadata": {
    "scrolled": true
   },
   "outputs": [],
   "source": [
    "#raw1 data which is recorded at 100 Hz\n",
    "data = list(raw1.items())\n",
    "an_array = np.array(data, dtype = object)\n",
    "\n",
    "temp3 = an_array[3]\n",
    "clab_100 = temp3[1]\n",
    "\n",
    "temp4 = an_array[4]\n",
    "x_train_100 = temp4[1]\n",
    "\n",
    "temp5 = an_array[5]\n",
    "y_train_list = temp5[1]\n",
    "y_train_100 = y_train_list[0]\n",
    "\n",
    "temp6 = an_array[6]\n",
    "x_test_100 = temp6[1]\n",
    "\n",
    "\n",
    "#A2, feature extraction, chnage 3-d to 2-d, CSP, \n",
    "#pick channels that are valuable, frquency band, "
   ]
  },
  {
   "cell_type": "markdown",
   "id": "468ff4ba",
   "metadata": {},
   "source": [
    "Learn about the shape and length of the data"
   ]
  },
  {
   "cell_type": "code",
   "execution_count": 22,
   "id": "0bf5613a",
   "metadata": {},
   "outputs": [
    {
     "name": "stdout",
     "output_type": "stream",
     "text": [
      "1\n",
      "(1, 28)\n",
      "50\n",
      "(50, 28, 316)\n",
      "316\n",
      "(316,)\n",
      "50\n",
      "(50, 28, 100)\n"
     ]
    }
   ],
   "source": [
    "for data in [clab_100, x_train_100, y_train_100, x_test_100]:\n",
    "    \n",
    "    print(len(data))\n",
    "    print(data.shape)"
   ]
  },
  {
   "cell_type": "markdown",
   "id": "2a1b65f8",
   "metadata": {},
   "source": [
    "\"fMRI has also been coupled with scalp electroencephalography (EEG) to estimate current sources associated with finger movements, which were found not only in the central sulcus, but also in frontal **medial and parietal regions** \" "
   ]
  },
  {
   "cell_type": "code",
   "execution_count": 24,
   "id": "ec6bdfbd",
   "metadata": {},
   "outputs": [],
   "source": [
    "#Experimneting \n",
    "data_items = raw1.items()\n",
    "data_list = list(data_items)\n",
    "df = pd.DataFrame(data_list)"
   ]
  },
  {
   "cell_type": "code",
   "execution_count": 20,
   "id": "f5fdd747",
   "metadata": {},
   "outputs": [
    {
     "name": "stdout",
     "output_type": "stream",
     "text": [
      "50\n"
     ]
    }
   ],
   "source": [
    "#raw2 data which is recorded at 1000 Hz\n",
    "data_1000 = list(raw2.items())\n",
    "an_array = np.array(data, dtype = object)\n",
    "\n",
    "temp3 = an_array[3]\n",
    "clab_1000 = temp3[1]\n",
    "\n",
    "temp4 = an_array[4]\n",
    "x_train_1000 = temp4[1]\n",
    "\n",
    "temp5 = an_array[5]\n",
    "y_train_list = temp5[1]\n",
    "y_train_1000 = y_train_list[0]\n",
    "\n",
    "temp6 = an_array[6]\n",
    "x_test_1000 = temp6[1]\n",
    "\n",
    "print(len(x_train_1000))"
   ]
  },
  {
   "cell_type": "code",
   "execution_count": 56,
   "id": "8ae59092",
   "metadata": {},
   "outputs": [],
   "source": [
    "clab_channels = clab_100[0]"
   ]
  },
  {
   "cell_type": "code",
   "execution_count": 57,
   "id": "6c2c8889",
   "metadata": {},
   "outputs": [
    {
     "name": "stdout",
     "output_type": "stream",
     "text": [
      "['F3', 'F1', 'Fz', 'F2', 'F4', 'FC5', 'FC3', 'FC1', 'FCz', 'FC2', 'FC4', 'FC6', 'C5', 'C3', 'C1', 'Cz', 'C2', 'C4', 'C6', 'CP5', 'CP3', 'CP1', 'CPz', 'CP2', 'CP4', 'CP6', 'O1', 'O2']\n"
     ]
    }
   ],
   "source": [
    "channels = []\n",
    "\n",
    "for j in clab_channels:\n",
    "    \n",
    "    for i in j:\n",
    "        channels.append(i)\n",
    "        \n",
    "print(channels)"
   ]
  }
 ],
 "metadata": {
  "kernelspec": {
   "display_name": "Python 3 (ipykernel)",
   "language": "python",
   "name": "python3"
  },
  "language_info": {
   "codemirror_mode": {
    "name": "ipython",
    "version": 3
   },
   "file_extension": ".py",
   "mimetype": "text/x-python",
   "name": "python",
   "nbconvert_exporter": "python",
   "pygments_lexer": "ipython3",
   "version": "3.9.5"
  }
 },
 "nbformat": 4,
 "nbformat_minor": 5
}
